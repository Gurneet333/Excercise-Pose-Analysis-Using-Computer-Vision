{
 "cells": [
  {
   "cell_type": "code",
   "execution_count": 56,
   "metadata": {},
   "outputs": [],
   "source": [
    "import argparse\n",
    "import glob\n",
    "import json\n",
    "import numpy as np\n",
    "import os\n"
   ]
  },
  {
   "cell_type": "code",
   "execution_count": null,
   "metadata": {},
   "outputs": [],
   "source": []
  },
  {
   "cell_type": "code",
   "execution_count": 77,
   "metadata": {},
   "outputs": [],
   "source": [
    "def parse_sequence(json_folder, output_folder):\n",
    "    \"\"\"Parse a sequence of OpenPose JSON frames and saves a corresponding numpy file.\n",
    "\n",
    "    Args:\n",
    "        json_folder: path to the folder containing OpenPose JSON for one video.\n",
    "        output_folder: path to save the numpy array files of keypoints.\n",
    "\n",
    "    \"\"\"\n",
    "    json_files = glob.glob(os.path.join(json_folder, '*.json'))\n",
    "    json_files = sorted(json_files)\n",
    "\n",
    "    num_frames = len(json_files)\n",
    "    all_keypoints = np.zeros((num_frames, 25, 3))\n",
    "    for i in range(num_frames):\n",
    "       \n",
    "        with open(json_files[i]) as f:\n",
    "            json_obj = json.load(f)\n",
    "#             print(json_obj)\n",
    "            keypoints = np.array(json_obj['people'][0]['pose_keypoints_2d'])\n",
    "            all_keypoints[i] = keypoints.reshape((25, 3))\n",
    "    \n",
    "    output_dir = os.path.join(output_folder, os.path.basename(json_folder))\n",
    "    np.save(output_dir, all_keypoints)"
   ]
  },
  {
   "cell_type": "code",
   "execution_count": 78,
   "metadata": {},
   "outputs": [],
   "source": [
    "parse_sequence(r'C:\\Users\\HP\\Downloads\\output_json_bicep_curl\\content\\openpose\\output_json',r'C:\\Users\\HP\\Downloads\\ExercisePoseAnalysis-master (1)\\ExercisePoseAnalysis-master\\OUTPUT')"
   ]
  },
  {
   "cell_type": "code",
   "execution_count": 75,
   "metadata": {},
   "outputs": [],
   "source": [
    "a=np.load('OUTPUT/output_json.npy')"
   ]
  },
  {
   "cell_type": "code",
   "execution_count": 76,
   "metadata": {},
   "outputs": [
    {
     "data": {
      "text/plain": [
       "(1490, 25, 3)"
      ]
     },
     "execution_count": 76,
     "metadata": {},
     "output_type": "execute_result"
    }
   ],
   "source": [
    "a.shape"
   ]
  },
  {
   "cell_type": "code",
   "execution_count": null,
   "metadata": {},
   "outputs": [],
   "source": []
  }
 ],
 "metadata": {
  "kernelspec": {
   "display_name": "Python 3",
   "language": "python",
   "name": "python3"
  },
  "language_info": {
   "codemirror_mode": {
    "name": "ipython",
    "version": 3
   },
   "file_extension": ".py",
   "mimetype": "text/x-python",
   "name": "python",
   "nbconvert_exporter": "python",
   "pygments_lexer": "ipython3",
   "version": "3.7.6"
  }
 },
 "nbformat": 4,
 "nbformat_minor": 4
}
