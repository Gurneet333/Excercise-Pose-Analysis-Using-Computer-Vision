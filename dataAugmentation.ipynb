{
 "nbformat": 4,
 "nbformat_minor": 2,
 "metadata": {
  "language_info": {
   "name": "python",
   "codemirror_mode": {
    "name": "ipython",
    "version": 3
   },
   "version": "3.7.3-final"
  },
  "orig_nbformat": 2,
  "file_extension": ".py",
  "mimetype": "text/x-python",
  "name": "python",
  "npconvert_exporter": "python",
  "pygments_lexer": "ipython3",
  "version": 3,
  "kernelspec": {
   "name": "env",
   "display_name": "env"
  }
 },
 "cells": [
  {
   "cell_type": "code",
   "execution_count": 7,
   "metadata": {},
   "outputs": [],
   "source": [
    "from pose_parser import parse_file, detect_perspective, save_to_file\n",
    "from copy import deepcopy\n",
    "import random\n",
    "import numpy as np"
   ]
  },
  {
   "cell_type": "code",
   "execution_count": 8,
   "metadata": {},
   "outputs": [
    {
     "name": "stdout",
     "output_type": "stream",
     "text": "Data shape:  (114, 18, 3)\nData shape:  (101, 18, 3)\nData shape:  (140, 18, 3)\nData shape:  (122, 18, 3)\nData shape:  (113, 18, 3)\nData shape:  (117, 18, 3)\nData shape:  (92, 18, 3)\nData shape:  (120, 18, 3)\nData shape:  (102, 18, 3)\n"
    }
   ],
   "source": [
    "good_videos = [parse_file(\"dataset/bicep/bicep_good_\"+ str(i) +\".npy\", False) for i in range(1,10)]"
   ]
  },
  {
   "cell_type": "code",
   "execution_count": 9,
   "metadata": {},
   "outputs": [],
   "source": [
    "initial_vid = good_videos[0]"
   ]
  },
  {
   "cell_type": "code",
   "execution_count": 10,
   "metadata": {},
   "outputs": [],
   "source": [
    "## Method1: Shifting the signal. Shift the entire data in time axis by certain amount to the left or right.\n",
    "def generate_shifted(video, shift_len, right_shift=True):\n",
    "    temp = deepcopy(video)\n",
    "    factor = 5.0\n",
    "    first_frame = temp[0] if right_shift else temp[-1]\n",
    "    for i in range(shift_len):\n",
    "        for name, joint in first_frame:\n",
    "            joint.x += random.uniform(-factor, factor)\n",
    "            joint.y += random.uniform(-factor, factor)\n",
    "            joint.confidence += random.uniform(-factor, factor)\n",
    "        temp2 = deepcopy(first_frame)\n",
    "        temp.insert(0 if right_shift else len(temp), temp2)\n",
    "    return temp\n"
   ]
  },
  {
   "cell_type": "code",
   "execution_count": 11,
   "metadata": {},
   "outputs": [],
   "source": [
    "#method 2: fluctuate the values by certain random amount\n",
    "def generate_fluctutated(video, factor):\n",
    "    temp = deepcopy(video)\n",
    "    for frame in temp:\n",
    "        for name, joint in frame:\n",
    "            if (name==\"relbow\" or name==\"rwrist\" or name==\"lwrist\" or name==\"lelbow\"):\n",
    "                joint.x += random.uniform(-factor, factor)\n",
    "                joint.y += random.uniform(-factor, factor)\n",
    "                joint.confidence += random.uniform(-factor, factor)\n",
    "    return temp"
   ]
  },
  {
   "cell_type": "code",
   "execution_count": 15,
   "metadata": {},
   "outputs": [],
   "source": [
    "def compress(video):\n",
    "    temp = deepcopy(video)\n",
    "    size = len(video)\n",
    "    n = random.randint(int(size/6), int(size/3))\n",
    "    for i in range(n):\n",
    "        temp.pop(random.randrange(len(temp)))\n",
    "    return temp\n",
    "\n",
    "def expand(video):\n",
    "    temp = deepcopy(video)\n",
    "    new_points = []\n",
    "    for i in range(1, len(temp)):\n",
    "        current = temp[i]\n",
    "        prev = temp[i-1]\n",
    "        if (random.choice([True, False])):\n",
    "            avg = current.average(prev)\n",
    "            new_points.append([i, avg])\n",
    "\n",
    "    for i in range(0, len(new_points)):\n",
    "        el = new_points[i]\n",
    "        index = el[0] + i\n",
    "        temp.insert(index, el[1])\n",
    "    return temp"
   ]
  },
  {
   "cell_type": "code",
   "execution_count": 18,
   "metadata": {},
   "outputs": [
    {
     "name": "stdout",
     "output_type": "stream",
     "text": "3\n6\n9\n12\n15\n18\n21\n24\n27\n30\n33\n36\n39\n42\n45\n48\n51\n54\n57\n60\n63\n66\n69\n72\n75\n78\n81\n84\n87\n90\n93\n96\n99\n102\n105\n108\n111\n114\n117\n120\n123\n126\n129\n132\n135\n138\n141\n144\n147\n150\n153\n156\n159\n162\n165\n168\n171\n174\n177\n180\n183\n186\n189\n192\n195\n198\n201\n204\n207\n210\n213\n216\n219\n222\n225\n228\n231\n234\n237\n240\n243\n246\n249\n252\n255\n258\n261\n264\n267\n270\n273\n276\n279\n282\n285\n288\n291\n294\n297\n300\n303\n306\n309\n312\n315\n318\n321\n324\n327\n330\n333\n336\n339\n342\n345\n348\n351\n354\n357\n360\n363\n366\n369\n372\n375\n378\n381\n384\n387\n390\n393\n396\n399\n402\n405\n408\n411\n414\n417\n420\n423\n426\n429\n432\n435\n438\n441\n444\n447\n450\n453\n456\n459\n462\n465\n468\n471\n474\n477\n480\n483\n486\n489\n492\n495\n498\n501\n504\n507\n510\n513\n516\n519\n522\n525\n528\n531\n534\n537\n540\n543\n546\n549\n552\n555\n558\n561\n564\n567\n570\n573\n576\n579\n582\n585\n588\n591\n594\n597\n600\n603\n606\n609\n612\n615\n618\n621\n624\n627\n630\n633\n636\n639\n642\n645\n648\n651\n654\n657\n660\n663\n666\n669\n672\n675\n"
    }
   ],
   "source": [
    "#Generate datasets from all combinations\n",
    "path = \"synthesized/bicep/bicep_good_\"\n",
    "index = 0\n",
    "for video in good_videos:\n",
    "    for i in range(0,21, 5):\n",
    "        shift_vid = generate_shifted(video, i)\n",
    "        for j in range(0,10,2):\n",
    "            f_vid = generate_fluctutated(shift_vid, j)\n",
    "            save_to_file(path+str(index)+\".npy\", f_vid)\n",
    "            index += 1\n",
    "            f_vid_2 = compress(f_vid)\n",
    "            save_to_file(path+str(index)+\".npy\", f_vid_2)\n",
    "            index += 1\n",
    "            f_vid_3 = expand(f_vid)\n",
    "            save_to_file(path+str(index)+\".npy\", f_vid_3)\n",
    "            index+=1\n",
    "            print(index)\n",
    "            "
   ]
  },
  {
   "cell_type": "code",
   "execution_count": 19,
   "metadata": {},
   "outputs": [
    {
     "name": "stdout",
     "output_type": "stream",
     "text": "Data shape:  (108, 18, 3)\nData shape:  (146, 18, 3)\nData shape:  (123, 18, 3)\nData shape:  (100, 18, 3)\nData shape:  (127, 18, 3)\nData shape:  (80, 18, 3)\nData shape:  (108, 18, 3)\n3\n6\n9\n12\n15\n18\n21\n24\n27\n30\n33\n36\n39\n42\n45\n48\n51\n54\n57\n60\n63\n66\n69\n72\n75\n78\n81\n84\n87\n90\n93\n96\n99\n102\n105\n108\n111\n114\n117\n120\n123\n126\n129\n132\n135\n138\n141\n144\n147\n150\n153\n156\n159\n162\n165\n168\n171\n174\n177\n180\n183\n186\n189\n192\n195\n198\n201\n204\n207\n210\n213\n216\n219\n222\n225\n228\n231\n234\n237\n240\n243\n246\n249\n252\n255\n258\n261\n264\n267\n270\n273\n276\n279\n282\n285\n288\n291\n294\n297\n300\n303\n306\n309\n312\n315\n318\n321\n324\n327\n330\n333\n336\n339\n342\n345\n348\n351\n354\n357\n360\n363\n366\n369\n372\n375\n378\n381\n384\n387\n390\n393\n396\n399\n402\n405\n408\n411\n414\n417\n420\n423\n426\n429\n432\n435\n438\n441\n444\n447\n450\n453\n456\n459\n462\n465\n468\n471\n474\n477\n480\n483\n486\n489\n492\n495\n498\n501\n504\n507\n510\n513\n516\n519\n522\n525\n"
    }
   ],
   "source": [
    "path = \"synthesized/bicep/bicep_bad_\"\n",
    "index = 0\n",
    "bad_videos = [parse_file(\"dataset/bicep/bicep_bad_\"+ str(i) +\".npy\", False) for i in range(1,8)]\n",
    "for video in bad_videos:\n",
    "    for i in range(0,21, 5):\n",
    "        shift_vid = generate_shifted(video, i)\n",
    "        for j in range(0,10,2):\n",
    "            f_vid = generate_fluctutated(shift_vid, j)\n",
    "            save_to_file(path+str(index)+\".npy\", f_vid)\n",
    "            index += 1\n",
    "            f_vid_2 = compress(f_vid)\n",
    "            save_to_file(path+str(index)+\".npy\", f_vid_2)\n",
    "            index += 1\n",
    "            f_vid_3 = expand(f_vid)\n",
    "            save_to_file(path+str(index)+\".npy\", f_vid_3)\n",
    "            index+=1\n",
    "            print(index)\n",
    "            "
   ]
  }
 ]
}