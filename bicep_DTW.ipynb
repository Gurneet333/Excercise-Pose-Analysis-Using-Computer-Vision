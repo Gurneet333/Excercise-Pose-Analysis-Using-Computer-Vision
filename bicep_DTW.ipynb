{
 "cells": [
  {
   "cell_type": "code",
   "execution_count": 4,
   "metadata": {},
   "outputs": [],
   "source": [
    "import math\n",
    "import glob\n",
    "import util as utils\n",
    "import pose\n",
    "import os\n",
    "from pose_parser import parse_file, detect_perspective\n",
    "\n",
    "\n",
    "from pprint import pprint\n",
    "from scipy.signal import medfilt\n",
    "from sklearn.model_selection import train_test_split\n",
    "from sklearn.neighbors import KNeighborsClassifier\n",
    "from sklearn.neighbors import DistanceMetric\n",
    "from sklearn.metrics import classification_report"
   ]
  },
  {
   "cell_type": "code",
   "execution_count": 3,
   "metadata": {},
   "outputs": [
    {
     "name": "stdout",
     "output_type": "stream",
     "text": [
      "array(['bicep_bad_10.npy', 'bicep_bad_3.npy', 'bicep_good_6.npy',\n",
      "       'bicep_bad_5.npy', 'bicep_bad_8.npy', 'bicep_good_1.npy',\n",
      "       'bicep_good_3.npy', 'bicep_bad_4.npy', 'bicep_bad_7.npy'],\n",
      "      dtype='<U16')\n",
      "array([0, 0, 1, 0, 0, 1, 1, 0, 0])\n",
      "array(['bicep_bad_1.npy', 'bicep_bad_2.npy', 'bicep_bad_6.npy',\n",
      "       'bicep_good_5.npy', 'bicep_good_4.npy', 'bicep_good_2.npy',\n",
      "       'bicep_bad_9.npy'], dtype='<U16')\n",
      "array([0, 0, 0, 1, 1, 1, 0])\n"
     ]
    }
   ],
   "source": [
    "files = utils.files_in_order('dataset/bicep')\n",
    "X_train_names, X_test_names = train_test_split(files, test_size=0.4, random_state=42)\n",
    "y_train = utils.get_labels(X_train_names)\n",
    "y_test = utils.get_labels(X_test_names)\n",
    "pprint(X_train_names)\n",
    "pprint(y_train)\n",
    "pprint(X_test_names)\n",
    "pprint(y_test)"
   ]
  },
  {
   "cell_type": "code",
   "execution_count": 12,
   "metadata": {},
   "outputs": [
    {
     "name": "stdout",
     "output_type": "stream",
     "text": [
      "Data shape:  (80, 18, 3)\n",
      "Mean torso:  382.9545547331215\n",
      "Primary arm: Right\n"
     ]
    },
    {
     "ename": "NameError",
     "evalue": "name 'upperarm_torso_angles' is not defined",
     "output_type": "error",
     "traceback": [
      "\u001b[1;31m---------------------------------------------------------------------------\u001b[0m",
      "\u001b[1;31mNameError\u001b[0m                                 Traceback (most recent call last)",
      "\u001b[1;32m<ipython-input-12-51a2d933145a>\u001b[0m in \u001b[0;36m<module>\u001b[1;34m\u001b[0m\n\u001b[0;32m     28\u001b[0m \u001b[1;33m\u001b[0m\u001b[0m\n\u001b[0;32m     29\u001b[0m \u001b[1;33m\u001b[0m\u001b[0m\n\u001b[1;32m---> 30\u001b[1;33m \u001b[0mX_train_1\u001b[0m\u001b[1;33m,\u001b[0m \u001b[0mX_train_2\u001b[0m \u001b[1;33m=\u001b[0m \u001b[0mload_features\u001b[0m\u001b[1;33m(\u001b[0m\u001b[0mX_train_names\u001b[0m\u001b[1;33m)\u001b[0m\u001b[1;33m\u001b[0m\u001b[1;33m\u001b[0m\u001b[0m\n\u001b[0m\u001b[0;32m     31\u001b[0m \u001b[0mX_test_1\u001b[0m\u001b[1;33m,\u001b[0m \u001b[0mX_test_2\u001b[0m \u001b[1;33m=\u001b[0m \u001b[0mload_features\u001b[0m\u001b[1;33m(\u001b[0m\u001b[0mX_test_names\u001b[0m\u001b[1;33m)\u001b[0m\u001b[1;33m\u001b[0m\u001b[1;33m\u001b[0m\u001b[0m\n",
      "\u001b[1;32m<ipython-input-12-51a2d933145a>\u001b[0m in \u001b[0;36mload_features\u001b[1;34m(names)\u001b[0m\n\u001b[0;32m     19\u001b[0m             \u001b[0mangle2\u001b[0m \u001b[1;33m=\u001b[0m \u001b[0mupperarm\u001b[0m\u001b[1;33m.\u001b[0m\u001b[0mcalculate_angle\u001b[0m\u001b[1;33m(\u001b[0m\u001b[0mtorso\u001b[0m\u001b[1;33m)\u001b[0m\u001b[1;33m\u001b[0m\u001b[1;33m\u001b[0m\u001b[0m\n\u001b[0;32m     20\u001b[0m             \u001b[0mupperarm_forearm_angles\u001b[0m\u001b[1;33m.\u001b[0m\u001b[0mappend\u001b[0m\u001b[1;33m(\u001b[0m\u001b[0mangle1\u001b[0m\u001b[1;33m)\u001b[0m\u001b[1;33m\u001b[0m\u001b[1;33m\u001b[0m\u001b[0m\n\u001b[1;32m---> 21\u001b[1;33m             \u001b[0mupperarm_torso_angles\u001b[0m\u001b[1;33m.\u001b[0m\u001b[0mappend\u001b[0m\u001b[1;33m(\u001b[0m\u001b[0mangle2\u001b[0m\u001b[1;33m)\u001b[0m\u001b[1;33m\u001b[0m\u001b[1;33m\u001b[0m\u001b[0m\n\u001b[0m\u001b[0;32m     22\u001b[0m             \u001b[0mupperarm_torso_angles_filtered\u001b[0m \u001b[1;33m=\u001b[0m \u001b[0mmedfilt\u001b[0m\u001b[1;33m(\u001b[0m\u001b[0mmedfilt\u001b[0m\u001b[1;33m(\u001b[0m\u001b[0mupperarm_torso_angles\u001b[0m\u001b[1;33m,\u001b[0m\u001b[1;36m5\u001b[0m\u001b[1;33m)\u001b[0m\u001b[1;33m,\u001b[0m\u001b[1;36m5\u001b[0m\u001b[1;33m)\u001b[0m\u001b[1;33m\u001b[0m\u001b[1;33m\u001b[0m\u001b[0m\n\u001b[0;32m     23\u001b[0m             \u001b[0mupperarm_forearm_angles_filtered\u001b[0m \u001b[1;33m=\u001b[0m \u001b[0mmedfilt\u001b[0m\u001b[1;33m(\u001b[0m\u001b[0mmedfilt\u001b[0m\u001b[1;33m(\u001b[0m\u001b[0mupperarm_forearm_angles\u001b[0m\u001b[1;33m,\u001b[0m\u001b[1;36m5\u001b[0m\u001b[1;33m)\u001b[0m\u001b[1;33m,\u001b[0m\u001b[1;36m5\u001b[0m\u001b[1;33m)\u001b[0m\u001b[1;33m\u001b[0m\u001b[1;33m\u001b[0m\u001b[0m\n",
      "\u001b[1;31mNameError\u001b[0m: name 'upperarm_torso_angles' is not defined"
     ]
    }
   ],
   "source": [
    "def load_features(names):\n",
    "    upperarm_forearm_angles_list = []\n",
    "    upperarm_torso_angles_list = []\n",
    "    for filename in names:\n",
    "        upperarm_forearm_angles = []\n",
    "        upperarm_torso_angles = []\n",
    "        frames = parse_file('dataset/bicep/' + filename)\n",
    "        side = detect_perspective(frames)\n",
    "        for frame in frames:\n",
    "            if (side == pose.Side.right):\n",
    "                upperarm = pose.Part(frame.relbow, frame.rshoulder)\n",
    "                forearm = pose.Part(frame.relbow, frame.rwrist)\n",
    "                torso = pose.Part(frame.rhip, frame.neck)\n",
    "            else:\n",
    "                upperarm = pose.Part(frame.lelbow, frame.lshoulder)\n",
    "                forearm = pose.Part(frame.lelbow, frame.lwrist)\n",
    "                torso = pose.Part(frame.lhip, frame.neck)\n",
    "            angle1 = upperarm.calculate_angle(forearm)\n",
    "            angle2 = upperarm.calculate_angle(torso)\n",
    "            upperarm_forearm_angles.append(angle1)\n",
    "            upperarm_torso_angles.append(angle2)\n",
    "            upperarm_torso_angles_filtered = medfilt(medfilt(upperarm_torso_angles,5),5)\n",
    "            upperarm_forearm_angles_filtered = medfilt(medfilt(upperarm_forearm_angles,5),5)\n",
    "        upperarm_forearm_angles_list.append(upperarm_forearm_angles_filtered.tolist())\n",
    "        upperarm_torso_angles_list.append(upperarm_torso_angles_filtered.tolist())\n",
    "\n",
    "    return upperarm_forearm_angles_list,upperarm_torso_angles_list \n",
    "\n",
    "\n",
    "X_train_1, X_train_2 = load_features(X_train_names)\n",
    "X_test_1, X_test_2 = load_features(X_test_names)"
   ]
  },
  {
   "cell_type": "code",
   "execution_count": 11,
   "metadata": {},
   "outputs": [
    {
     "name": "stdout",
     "output_type": "stream",
     "text": [
      "[0.0]\n"
     ]
    }
   ],
   "source": [
    "p"
   ]
  },
  {
   "cell_type": "code",
   "execution_count": null,
   "metadata": {},
   "outputs": [],
   "source": []
  }
 ],
 "metadata": {
  "file_extension": ".py",
  "kernelspec": {
   "display_name": "Python 3",
   "language": "python",
   "name": "python3"
  },
  "language_info": {
   "codemirror_mode": {
    "name": "ipython",
    "version": 3
   },
   "file_extension": ".py",
   "mimetype": "text/x-python",
   "name": "python",
   "nbconvert_exporter": "python",
   "pygments_lexer": "ipython3",
   "version": "3.7.6"
  },
  "mimetype": "text/x-python",
  "name": "python",
  "npconvert_exporter": "python",
  "pygments_lexer": "ipython3",
  "version": 3
 },
 "nbformat": 4,
 "nbformat_minor": 2
}
