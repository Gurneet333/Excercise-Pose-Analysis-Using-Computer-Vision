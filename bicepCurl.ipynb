{
 "cells": [
  {
   "cell_type": "code",
   "execution_count": 26,
   "metadata": {},
   "outputs": [],
   "source": [
    "import numpy as np\n",
    "import matplotlib.pyplot as plt\n",
    "from scipy.signal import medfilt\n",
    "\n",
    "import pose\n",
    "from pose_parser import parse_file, detect_perspective\n",
    "\n"
   ]
  },
  {
   "cell_type": "code",
   "execution_count": 27,
   "metadata": {},
   "outputs": [
    {
     "name": "stdout",
     "output_type": "stream",
     "text": [
      "Data shape:  (114, 18, 3)\n",
      "Mean torso:  360.11485467535044\n",
      "Data shape:  (101, 18, 3)\n",
      "Mean torso:  361.91618075058716\n",
      "Data shape:  (140, 18, 3)\n",
      "Mean torso:  274.49230143795376\n",
      "Data shape:  (122, 18, 3)\n",
      "Mean torso:  276.056770970454\n",
      "Data shape:  (113, 18, 3)\n",
      "Mean torso:  386.10674117118276\n",
      "Data shape:  (117, 18, 3)\n",
      "Mean torso:  388.8324699035529\n",
      "Data shape:  (92, 18, 3)\n",
      "Mean torso:  364.56482601788053\n",
      "Data shape:  (120, 18, 3)\n",
      "Mean torso:  364.55769028003914\n",
      "Data shape:  (102, 18, 3)\n",
      "Mean torso:  389.4333451516014\n",
      "Data shape:  (108, 18, 3)\n",
      "Mean torso:  359.69948300318237\n",
      "Data shape:  (146, 18, 3)\n",
      "Mean torso:  362.94356251552193\n",
      "Data shape:  (123, 18, 3)\n",
      "Mean torso:  271.04817985102164\n",
      "Data shape:  (100, 18, 3)\n",
      "Mean torso:  274.544553716319\n",
      "Data shape:  (127, 18, 3)\n",
      "Mean torso:  276.5870125620258\n",
      "Data shape:  (80, 18, 3)\n",
      "Mean torso:  382.9545547331215\n",
      "Data shape:  (108, 18, 3)\n",
      "Mean torso:  366.72702499907354\n"
     ]
    }
   ],
   "source": [
    "good_videos = [parse_file(\"dataset/bicep/bicep_good_\"+ str(i) +\".npy\") for i in range(1,10)]\n",
    "bad_videos = [parse_file(\"dataset/bicep/bicep_bad_\" + str(i) + \".npy\") for i in range(1,8)]\n",
    "\n"
   ]
  },
  {
   "cell_type": "code",
   "execution_count": null,
   "metadata": {},
   "outputs": [],
   "source": []
  },
  {
   "cell_type": "code",
   "execution_count": 28,
   "metadata": {},
   "outputs": [],
   "source": [
    "# # old one\n",
    "# for video in good_videos:\n",
    "#     frames = video\n",
    "\n",
    "#     side = detect_perspective(frames)\n",
    "\n",
    "#     if (side == pose.Side.right):\n",
    "#         upper_arm_vecs = np.array([pose.Joint.vector_from_joints(frame.rshoulder, frame.relbow) for frame in frames])\n",
    "#         lower_arm_vecs = np.array([pose.Joint.vector_from_joints(frame.relbow, frame.rwrist) for frame in frames])\n",
    "#     else:\n",
    "#         upper_arm_vecs = np.array([pose.Joint.vector_from_joints(frame.lshoulder, frame.lelbow) for frame in frames])\n",
    "#         lower_arm_vecs = np.array([pose.Joint.vector_from_joints(frame.lelbow, frame.lwrist) for frame in frames])\n",
    "\n",
    "#     # print(lower_arm_vecs)\n",
    "#     print (upper_arm_vecs.shape)\n",
    "#     print (upper_arm_vecs[0])\n",
    "\n",
    "#     #Find the unit vector vec/mag(normalization axis=1)\n",
    "#     upper_arm_vecs = upper_arm_vecs/ np.expand_dims(np.linalg.norm(upper_arm_vecs, axis=1), axis=1)\n",
    "#     lower_arm_vecs = lower_arm_vecs/ np.expand_dims(np.linalg.norm(lower_arm_vecs, axis=1), axis=1)\n",
    "\n",
    "#     #Angle = cos inverse of product of two unit vectors\n",
    "#     # np.multiply(upper_arm_vecs, lower_arm_vecs)\n",
    "#     # np.sum(np.multiply(upper_arm_vecs, lower_arm_vecs), axis=1)\n",
    "#     upper_arm_forearm_angle = np.degrees(np.arccos(np.clip(np.sum(np.multiply(upper_arm_vecs, lower_arm_vecs), axis=1), -1.0, 1.0)))\n",
    "#     print(upper_arm_forearm_angle)\n"
   ]
  },
  {
   "cell_type": "code",
   "execution_count": 29,
   "metadata": {},
   "outputs": [],
   "source": [
    "# upper_arm_vecs = upper_arm_vecs/ np.expand_dims(np.linalg.norm(upper_arm_vecs, axis=1), axis=1)\n",
    "# lower_arm_vecs = lower_arm_vecs/ np.expand_dims(np.linalg.norm(upper_arm_vecs, axis=1), axis=1)"
   ]
  },
  {
   "cell_type": "code",
   "execution_count": 30,
   "metadata": {},
   "outputs": [],
   "source": [
    "def plot_upperarm_forearm(upperarm_forearm_angles):\n",
    "    upperarm_forearm_angles_filtered = medfilt(upperarm_forearm_angles, 5)\n",
    "    upper_forearm_angles_filtered = medfilt(upperarm_forearm_angles_filtered, 5)\n",
    "    # The minimum angle between these two, i.e. if user moved all the way up\n",
    "    print(\"Minimum Angle between Upper Arm and Forearm: {}\".format(np.min(upperarm_forearm_angles)))\n",
    "    plt.scatter(np.arange(upperarm_forearm_angles.shape[0]),upperarm_forearm_angles, alpha=0.5)\n",
    "    plt.scatter(np.arange(upperarm_forearm_angles_filtered.shape[0]),upperarm_forearm_angles_filtered, c='r', alpha=0.5)\n",
    "    plt.xlabel('Frames')\n",
    "    plt.ylabel('Angle between Upper Arm and Forearm')\n",
    "    # Set range on y-axis so the plots are consistent\n",
    "    plt.ylim(0,180) \n",
    "    plt.show()\n",
    "    print(\"=\"*40)\n"
   ]
  },
  {
   "cell_type": "code",
   "execution_count": 31,
   "metadata": {},
   "outputs": [],
   "source": [
    "def plot_upperarm_torso(upperarm_torso_angles):\n",
    "    upperarm_torso_angles_filtered = medfilt(upperarm_torso_angles, 5)\n",
    "    upperarm_torso_angles_filtered = medfilt(upperarm_torso_angles_filtered, 5)\n",
    "    # Basically the amplitude of the first plot\n",
    "    print(\"Range of Angles between Upper Arm and Torso: {}\".format(np.max(upperarm_torso_angles)-np.min(upperarm_torso_angles)))\n",
    "\n",
    "    # Generate plots\n",
    "    plt.scatter(np.arange(upperarm_torso_angles.shape[0]),upperarm_torso_angles, alpha=0.5)\n",
    "    plt.scatter(np.arange(upperarm_torso_angles_filtered.shape[0]),upperarm_torso_angles_filtered, c='r', alpha=0.5)\n",
    "    plt.xlabel('Frames')\n",
    "    plt.ylabel('Angle between Torso and Upper Arm')\n",
    "    # Set range on y-axis so the plots are consistent\n",
    "    plt.ylim(0,90) \n",
    "    plt.show()"
   ]
  },
  {
   "cell_type": "code",
   "execution_count": 1,
   "metadata": {},
   "outputs": [
    {
     "ename": "NameError",
     "evalue": "name 'good_videos' is not defined",
     "output_type": "error",
     "traceback": [
      "\u001b[1;31m---------------------------------------------------------------------------\u001b[0m",
      "\u001b[1;31mNameError\u001b[0m                                 Traceback (most recent call last)",
      "\u001b[1;32m<ipython-input-1-dc5a398b9b8e>\u001b[0m in \u001b[0;36m<module>\u001b[1;34m\u001b[0m\n\u001b[0;32m      1\u001b[0m \u001b[1;31m# Clearer code for angle\u001b[0m\u001b[1;33m\u001b[0m\u001b[1;33m\u001b[0m\u001b[1;33m\u001b[0m\u001b[0m\n\u001b[1;32m----> 2\u001b[1;33m \u001b[1;32mfor\u001b[0m \u001b[0mvideo\u001b[0m \u001b[1;32min\u001b[0m \u001b[0mgood_videos\u001b[0m\u001b[1;33m+\u001b[0m\u001b[0mbad_videos\u001b[0m\u001b[1;33m:\u001b[0m\u001b[1;33m\u001b[0m\u001b[1;33m\u001b[0m\u001b[0m\n\u001b[0m\u001b[0;32m      3\u001b[0m     \u001b[0mframes\u001b[0m \u001b[1;33m=\u001b[0m \u001b[0mvideo\u001b[0m\u001b[1;33m\u001b[0m\u001b[1;33m\u001b[0m\u001b[0m\n\u001b[0;32m      4\u001b[0m \u001b[1;33m\u001b[0m\u001b[0m\n\u001b[0;32m      5\u001b[0m     \u001b[0mside\u001b[0m \u001b[1;33m=\u001b[0m \u001b[0mdetect_perspective\u001b[0m\u001b[1;33m(\u001b[0m\u001b[0mframes\u001b[0m\u001b[1;33m)\u001b[0m\u001b[1;33m\u001b[0m\u001b[1;33m\u001b[0m\u001b[0m\n",
      "\u001b[1;31mNameError\u001b[0m: name 'good_videos' is not defined"
     ]
    }
   ],
   "source": [
    "# Clearer code for angle\n",
    "for video in good_videos+bad_videos:\n",
    "    frames = video\n",
    "\n",
    "    side = detect_perspective(frames)\n",
    "\n",
    "    #Angles to calculate\n",
    "    upperarm_forearm_angles = []\n",
    "    upperarm_torso_angles = []\n",
    "\n",
    "    for frame in frames:\n",
    "        if (side == pose.Side.right):\n",
    "            upperarm = pose.Part(frame.relbow, frame.rshoulder)\n",
    "            forearm = pose.Part(frame.relbow, frame.rwrist)\n",
    "            torso = pose.Part(frame.rhip, frame.neck)\n",
    "        else:\n",
    "            upperarm = pose.Part(frame.lelbow, frame.lshoulder)\n",
    "            forearm = pose.Part(frame.lelbow, frame.lwrist)\n",
    "            torso = pose.Part(frame.lhip, frame.neck)\n",
    "        angle1 = upperarm.calculate_angle(forearm)\n",
    "        angle2 = upperarm.calculate_angle(torso)\n",
    "        upperarm_forearm_angles.append(angle1)\n",
    "        upperarm_torso_angles.append(angle2)\n",
    "\n",
    "    upperarm_forearm_angles = np.array(upperarm_forearm_angles)\n",
    "    upperarm_torso_angles = np.array(upperarm_torso_angles)\n",
    "    if video in good_videos:\n",
    "        print(\"---------------GOOD---------------\")\n",
    "    else:\n",
    "        print(\"---------------BAD---------------\")\n",
    "    plot_upperarm_forearm(upperarm_forearm_angles)\n",
    "    plot_upperarm_torso(upperarm_torso_angles)\n",
    "\n"
   ]
  }
 ],
 "metadata": {
  "file_extension": ".py",
  "kernelspec": {
   "display_name": "Python 3",
   "language": "python",
   "name": "python3"
  },
  "language_info": {
   "codemirror_mode": {
    "name": "ipython",
    "version": 3
   },
   "file_extension": ".py",
   "mimetype": "text/x-python",
   "name": "python",
   "nbconvert_exporter": "python",
   "pygments_lexer": "ipython3",
   "version": "3.7.6"
  },
  "mimetype": "text/x-python",
  "name": "python",
  "npconvert_exporter": "python",
  "pygments_lexer": "ipython3",
  "version": 3
 },
 "nbformat": 4,
 "nbformat_minor": 2
}
