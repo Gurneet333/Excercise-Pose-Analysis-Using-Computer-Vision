{
 "cells": [
  {
   "cell_type": "code",
   "execution_count": 9,
   "metadata": {},
   "outputs": [],
   "source": [
    "import util\n",
    "import numpy as np\n",
    "import math\n",
    "import matplotlib.pyplot as plt\n",
    "# !pip install chart_studio\n",
    "from scipy.signal import medfilt\n",
    "from plotly import tools\n",
    "import chart_studio.plotly as py\n",
    "import plotly.graph_objs as go\n",
    "import pose\n",
    "from pose_parser import parse_file"
   ]
  },
  {
   "cell_type": "code",
   "execution_count": 11,
   "metadata": {},
   "outputs": [
    {
     "name": "stdout",
     "output_type": "stream",
     "text": [
      "Data shape:  (1069, 19, 3)\n"
     ]
    },
    {
     "ename": "TypeError",
     "evalue": "__init__() missing 7 required positional arguments: 'LBigToe', 'LSmallToe', 'LHeel', 'RBigToe', 'RSmallToe', 'RHeel', and 'Background'",
     "output_type": "error",
     "traceback": [
      "\u001b[1;31m---------------------------------------------------------------------------\u001b[0m",
      "\u001b[1;31mTypeError\u001b[0m                                 Traceback (most recent call last)",
      "\u001b[1;32m<ipython-input-11-e45dd4f6803c>\u001b[0m in \u001b[0;36m<module>\u001b[1;34m\u001b[0m\n\u001b[1;32m----> 1\u001b[1;33m \u001b[0mps\u001b[0m \u001b[1;33m=\u001b[0m \u001b[0mparse_file\u001b[0m\u001b[1;33m(\u001b[0m\u001b[1;34m\"dataset/front/front_bicep_8.npy\"\u001b[0m\u001b[1;33m)\u001b[0m\u001b[1;33m\u001b[0m\u001b[1;33m\u001b[0m\u001b[0m\n\u001b[0m",
      "\u001b[1;32m~\\Downloads\\ExercisePoseAnalysis-master (1)\\ExercisePoseAnalysis-master\\pose_parser.py\u001b[0m in \u001b[0;36mparse_file\u001b[1;34m(file_path, normalize)\u001b[0m\n\u001b[0;32m     35\u001b[0m             \u001b[0mframe\u001b[0m \u001b[1;33m=\u001b[0m \u001b[0mnp\u001b[0m\u001b[1;33m.\u001b[0m\u001b[0mvstack\u001b[0m\u001b[1;33m(\u001b[0m\u001b[1;33m(\u001b[0m\u001b[0mframe\u001b[0m\u001b[1;33m,\u001b[0m \u001b[0mrow\u001b[0m\u001b[1;33m)\u001b[0m\u001b[1;33m)\u001b[0m\u001b[1;33m\u001b[0m\u001b[1;33m\u001b[0m\u001b[0m\n\u001b[0;32m     36\u001b[0m         \u001b[0mjoints\u001b[0m \u001b[1;33m=\u001b[0m \u001b[1;33m[\u001b[0m\u001b[0mJoint\u001b[0m\u001b[1;33m(\u001b[0m\u001b[1;33m*\u001b[0m\u001b[0mjoint\u001b[0m\u001b[1;33m)\u001b[0m \u001b[1;32mfor\u001b[0m \u001b[0mjoint\u001b[0m \u001b[1;32min\u001b[0m \u001b[0mframe\u001b[0m\u001b[1;33m]\u001b[0m  \u001b[1;31m# Unpack and pass x,y,conf\u001b[0m\u001b[1;33m\u001b[0m\u001b[1;33m\u001b[0m\u001b[0m\n\u001b[1;32m---> 37\u001b[1;33m         \u001b[0mpose_sequence\u001b[0m\u001b[1;33m.\u001b[0m\u001b[0mappend\u001b[0m\u001b[1;33m(\u001b[0m\u001b[0mPoseData\u001b[0m\u001b[1;33m(\u001b[0m\u001b[1;33m*\u001b[0m\u001b[0mjoints\u001b[0m\u001b[1;33m)\u001b[0m\u001b[1;33m)\u001b[0m  \u001b[1;31m# Unpack and pass argument\u001b[0m\u001b[1;33m\u001b[0m\u001b[1;33m\u001b[0m\u001b[0m\n\u001b[0m\u001b[0;32m     38\u001b[0m \u001b[1;33m\u001b[0m\u001b[0m\n\u001b[0;32m     39\u001b[0m     \u001b[1;32mif\u001b[0m \u001b[1;33m(\u001b[0m\u001b[0mnormalize\u001b[0m\u001b[1;33m)\u001b[0m\u001b[1;33m:\u001b[0m\u001b[1;33m\u001b[0m\u001b[1;33m\u001b[0m\u001b[0m\n",
      "\u001b[1;31mTypeError\u001b[0m: __init__() missing 7 required positional arguments: 'LBigToe', 'LSmallToe', 'LHeel', 'RBigToe', 'RSmallToe', 'RHeel', and 'Background'"
     ]
    }
   ],
   "source": [
    "ps = parse_file(\"dataset/front/front_bicep_8.npy\")"
   ]
  },
  {
   "cell_type": "code",
   "execution_count": 60,
   "metadata": {},
   "outputs": [],
   "source": [
    "frames = ps\n",
    "left_upperarm_forearm_angles = []\n",
    "right_upperarm_forearm_angles = []\n",
    "left_refer_angles = []\n",
    "right_refer_angles = []\n",
    "dire = [\"Upward\"]"
   ]
  },
  {
   "cell_type": "code",
   "execution_count": 61,
   "metadata": {},
   "outputs": [],
   "source": [
    "for i,frame in enumerate(frames):\n",
    "    if (i==0):\n",
    "        initial_position_left = pose.Part(frame.lelbow, frame.lwrist)\n",
    "        initial_position_right = pose.Part(frame.relbow,frame.rwrist)\n",
    "\n",
    "    right_upperarm = pose.Part(frame.relbow, frame.rshoulder)\n",
    "    right_forearm = pose.Part(frame.relbow, frame.rwrist)\n",
    "    left_upperarm = pose.Part(frame.lelbow, frame.lshoulder)\n",
    "    left_forearm = pose.Part(frame.lelbow, frame.lwrist)\n",
    "\n",
    "    left_refer_angle = initial_position_left.calculate_angle(left_forearm)\n",
    "    right_refer_angle = initial_position_right.calculate_angle(right_forearm)\n",
    "\n",
    "    left_angle = left_upperarm.calculate_angle(left_forearm)\n",
    "    right_angle = right_upperarm.calculate_angle(right_forearm)\n",
    "\n",
    "        \n",
    "    left_refer_angles.append(left_refer_angle)\n",
    "    right_refer_angles.append(right_refer_angle)\n",
    "\n",
    "    left_upperarm_forearm_angles.append(left_angle)\n",
    "    right_upperarm_forearm_angles.append(right_angle)\n"
   ]
  },
  {
   "cell_type": "code",
   "execution_count": 62,
   "metadata": {},
   "outputs": [
    {
     "name": "stdout",
     "output_type": "stream",
     "text": [
      "Squeeze your arm all the way to top properly\n",
      "Squeeze your arm all the way to top properly\n",
      "Squeeze your arm all the way to top properly\n",
      "Stretch your arm all the way to bottom\n",
      "Squeeze your arm all the way to top properly\n",
      "Squeeze your arm all the way to top properly\n",
      "Squeeze your arm all the way to top properly\n",
      "Squeeze your arm all the way to top properly\n",
      "Stretch your arm all the way to bottom\n",
      "Squeeze your arm all the way to top properly\n"
     ]
    }
   ],
   "source": [
    "left_refer_angles = medfilt (left_refer_angles, 31)\n",
    "right_refer_angles = medfilt (right_refer_angles, 31)\n",
    "    \n",
    "left_upperarm_forearm_angles= medfilt(left_upperarm_forearm_angles, 31)\n",
    "right_upperarm_forearm_angles = medfilt(right_upperarm_forearm_angles,31)\n",
    "\n",
    "for i in range(1, len(left_refer_angles)):\n",
    "    prev_angle = left_refer_angles [i-1]\n",
    "    current_angle = left_refer_angles [i]\n",
    "\n",
    "    if(current_angle - prev_angle > 0):\n",
    "        dire.append(\"Upward\")\n",
    "    elif (current_angle- prev_angle <0):\n",
    "        dire.append(\"Downward\")\n",
    "    else:\n",
    "        dire.append(\"Stationary\")\n",
    "\n",
    "feedback = ''\n",
    "for i in range(1, len(dire)):\n",
    "    if (dire[i-1]!=dire[i] and dire[i]!=dire[i+1] and dire [i-1]== dire[i+1]):\n",
    "        dire[i]=dire[i+1]\n",
    "    if (dire[i] == 'Stationary' and dire[i+1]== \"Upward\"):\n",
    "        if(left_upperarm_forearm_angles[i]<170.0):\n",
    "            print(\"Stretch your arm all the way to bottom\")\n",
    "    if (dire[i] == 'Stationary' and dire[i+1]== \"Downward\"):\n",
    "        if (left_upperarm_forearm_angles[i] > 30.0 and left_upperarm_forearm_angles[i]<160.0):\n",
    "            print(\"Squeeze your arm all the way to top properly\")\n"
   ]
  },
  {
   "cell_type": "code",
   "execution_count": 63,
   "metadata": {},
   "outputs": [],
   "source": [
    "import cv2\n",
    "import numpy as np\n",
    "import time"
   ]
  },
  {
   "cell_type": "code",
   "execution_count": 64,
   "metadata": {},
   "outputs": [
    {
     "name": "stdout",
     "output_type": "stream",
     "text": [
      "Data shape:  (820, 19, 3)\n"
     ]
    }
   ],
   "source": [
    "cap = cv2.VideoCapture('videos/bicep_8.mp4')\n",
    "ps2 = parse_file(\"dataset/front/front_bicep_8.npy\", normalize=False)\n",
    "if(cap.isOpened()==False):\n",
    "    print(\"Error\")\n",
    "i= 0\n",
    "reps = 0\n",
    "feedback = ''\n",
    "while(cap.isOpened()):\n",
    "    ret, frame = cap.read()\n",
    "    if (ret== True):\n",
    "        \n",
    "        for name, joint in ps2[i]:\n",
    "            x = int(joint.x)\n",
    "            y = int(joint.y)\n",
    "            cv2.circle(frame, (x, y), 1, (0, 255, 255), 2)\n",
    "        \n",
    "        \n",
    "        if (dire[i] == 'Stationary' and dire[i+1]== \"Upward\"):\n",
    "            reps+=1\n",
    "            if(left_upperarm_forearm_angles[i]<170.0):\n",
    "                feedback+= \"Stretch your arm all the way to bottom\"\n",
    "        if (dire[i] == 'Stationary' and dire[i+1]== \"Downward\"):\n",
    "            if (left_upperarm_forearm_angles[i] > 30.0 and left_upperarm_forearm_angles[i]<160.0):\n",
    "                feedback+=\"Squeeze your arm all the way to top properly\"\n",
    "        text = str(round(left_upperarm_forearm_angles[i],2))+ \"  \" + str(round(right_upperarm_forearm_angles[i],2)) + \" \" + dire[i] + \"Frame:\" + str(i)\n",
    "        cv2.putText(frame, text, (10,50),cv2.FONT_HERSHEY_COMPLEX,0.6,(0,255,255),2)\n",
    "\n",
    "        text = \"Reps: {}\".format(reps)\n",
    "        cv2.putText(frame, text,(10, 100),cv2.FONT_HERSHEY_COMPLEX,0.6,(0,255,255),2 )\n",
    "        cv2.imshow('Frame', frame)\n",
    "        i=i+1\n",
    "        if (cv2.waitKey(25) & 0xFF == ord('q')):\n",
    "            break\n",
    "    else:\n",
    "        break\n",
    "cap.release()\n",
    "cv2.destroyAllWindows()"
   ]
  },
  {
   "cell_type": "code",
   "execution_count": null,
   "metadata": {},
   "outputs": [],
   "source": []
  }
 ],
 "metadata": {
  "file_extension": ".py",
  "kernelspec": {
   "display_name": "Python 3",
   "language": "python",
   "name": "python3"
  },
  "language_info": {
   "codemirror_mode": {
    "name": "ipython",
    "version": 3
   },
   "file_extension": ".py",
   "mimetype": "text/x-python",
   "name": "python",
   "nbconvert_exporter": "python",
   "pygments_lexer": "ipython3",
   "version": "3.7.6"
  },
  "mimetype": "text/x-python",
  "name": "python",
  "npconvert_exporter": "python",
  "pygments_lexer": "ipython3",
  "version": 3
 },
 "nbformat": 4,
 "nbformat_minor": 2
}
